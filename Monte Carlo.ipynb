{
 "cells": [
  {
   "cell_type": "code",
   "execution_count": 2,
   "metadata": {},
   "outputs": [],
   "source": [
    "# %matplotlib notebook\n",
    "import matplotlib.pyplot as plt\n",
    "import numpy as np\n",
    "import scipy as sp\n",
    "import math\n",
    "\n",
    "plt.rcParams['figure.figsize'] = [30, 15]"
   ]
  },
  {
   "cell_type": "code",
   "execution_count": 5,
   "metadata": {},
   "outputs": [],
   "source": [
    "step = 0.05\n",
    "x = np.arange(-5.0, 5.0+step, step)\n",
    "y1 = np.e ** (0.4 *x)\n",
    "y2 = sp.sqrt(25.0 - x*x)\n",
    "y3 = np.zeros(x.shape[0])\n"
   ]
  },
  {
   "cell_type": "code",
   "execution_count": 6,
   "metadata": {
    "scrolled": false
   },
   "outputs": [
    {
     "data": {
      "text/plain": [
       "[<matplotlib.lines.Line2D at 0x1b05d66a4e0>]"
      ]
     },
     "execution_count": 6,
     "metadata": {},
     "output_type": "execute_result"
    },
    {
     "data": {
      "image/png": "[encoded data removed]",
      "text/plain": [
       "<Figure size 432x288 with 1 Axes>"
      ]
     },
     "metadata": {
      "needs_background": "light"
     },
     "output_type": "display_data"
    }
   ],
   "source": [
    "fig, ax = plt.subplots()\n",
    "ax.plot(x,y1, color='blue')\n",
    "ax.plot(x,y2, color='green')\n",
    "ax.plot(x,y3, color='red')"
   ]
  },
  {
   "cell_type": "code",
   "execution_count": 17,
   "metadata": {},
   "outputs": [],
   "source": [
    "# n_points = 10000\n",
    "# rect_points = np.array([np.random.uniform(-3, 3, n_points),np.random.uniform(0, 3, n_points)])"
   ]
  },
  {
   "cell_type": "code",
   "execution_count": 7,
   "metadata": {},
   "outputs": [],
   "source": [
    "def run_experiment(n_points):\n",
    "    rect_points = np.array([np.random.uniform(-5, 5, n_points),np.random.uniform(0, 3, n_points)])\n",
    "    inside = 0\n",
    "    for point in rect_points.T:\n",
    "        x,y = point\n",
    "        if y < np.e ** (0.4 *x) and y < np.sqrt(25.0 - x*x) and y > 0:\n",
    "            inside +=1\n",
    "    return inside/n_points * (10 * 5)\n"
   ]
  },
  {
   "cell_type": "code",
   "execution_count": 8,
   "metadata": {},
   "outputs": [
    {
     "data": {
      "text/plain": [
       "21.325"
      ]
     },
     "execution_count": 8,
     "metadata": {},
     "output_type": "execute_result"
    }
   ],
   "source": [
    "run_experiment(10000)\n",
    "    "
   ]
  },
  {
   "cell_type": "code",
   "execution_count": 9,
   "metadata": {},
   "outputs": [],
   "source": [
    "n_tests = 10\n",
    "data = {\n",
    "    '100':[run_experiment(100) for v in range(n_tests)],\n",
    "    '200':[run_experiment(200) for v in range(n_tests)],\n",
    "    '500':[run_experiment(500) for v in range(n_tests)],\n",
    "    '1000':[run_experiment(1000) for v in range(n_tests)],\n",
    "    '2000':[run_experiment(2000) for v in range(n_tests)],\n",
    "    '5000':[run_experiment(5000) for v in range(n_tests)],\n",
    "    '10000':[run_experiment(10000) for v in range(n_tests)],\n",
    "} "
   ]
  },
  {
   "cell_type": "code",
   "execution_count": 10,
   "metadata": {},
   "outputs": [
    {
     "data": {
      "text/html": [
       "<div>\n",
       "<style scoped>\n",
       "    .dataframe tbody tr th:only-of-type {\n",
       "        vertical-align: middle;\n",
       "    }\n",
       "\n",
       "    .dataframe tbody tr th {\n",
       "        vertical-align: top;\n",
       "    }\n",
       "\n",
       "    .dataframe thead th {\n",
       "        text-align: right;\n",
       "    }\n",
       "</style>\n",
       "<table border=\"1\" class=\"dataframe\">\n",
       "  <thead>\n",
       "    <tr style=\"text-align: right;\">\n",
       "      <th></th>\n",
       "      <th>100</th>\n",
       "      <th>200</th>\n",
       "      <th>500</th>\n",
       "      <th>1000</th>\n",
       "      <th>2000</th>\n",
       "      <th>5000</th>\n",
       "      <th>10000</th>\n",
       "    </tr>\n",
       "  </thead>\n",
       "  <tbody>\n",
       "    <tr>\n",
       "      <th>0</th>\n",
       "      <td>19.0</td>\n",
       "      <td>19.75</td>\n",
       "      <td>22.2</td>\n",
       "      <td>22.70</td>\n",
       "      <td>22.375</td>\n",
       "      <td>20.87</td>\n",
       "      <td>21.480</td>\n",
       "    </tr>\n",
       "    <tr>\n",
       "      <th>1</th>\n",
       "      <td>19.5</td>\n",
       "      <td>22.50</td>\n",
       "      <td>21.3</td>\n",
       "      <td>23.00</td>\n",
       "      <td>20.325</td>\n",
       "      <td>21.39</td>\n",
       "      <td>21.610</td>\n",
       "    </tr>\n",
       "    <tr>\n",
       "      <th>2</th>\n",
       "      <td>22.0</td>\n",
       "      <td>20.75</td>\n",
       "      <td>21.2</td>\n",
       "      <td>21.95</td>\n",
       "      <td>20.925</td>\n",
       "      <td>21.78</td>\n",
       "      <td>21.555</td>\n",
       "    </tr>\n",
       "    <tr>\n",
       "      <th>3</th>\n",
       "      <td>17.5</td>\n",
       "      <td>19.25</td>\n",
       "      <td>22.8</td>\n",
       "      <td>20.65</td>\n",
       "      <td>21.250</td>\n",
       "      <td>21.46</td>\n",
       "      <td>21.595</td>\n",
       "    </tr>\n",
       "    <tr>\n",
       "      <th>4</th>\n",
       "      <td>24.0</td>\n",
       "      <td>21.00</td>\n",
       "      <td>22.2</td>\n",
       "      <td>21.75</td>\n",
       "      <td>22.550</td>\n",
       "      <td>21.92</td>\n",
       "      <td>21.635</td>\n",
       "    </tr>\n",
       "    <tr>\n",
       "      <th>5</th>\n",
       "      <td>17.5</td>\n",
       "      <td>21.25</td>\n",
       "      <td>21.2</td>\n",
       "      <td>23.50</td>\n",
       "      <td>21.775</td>\n",
       "      <td>22.27</td>\n",
       "      <td>21.785</td>\n",
       "    </tr>\n",
       "    <tr>\n",
       "      <th>6</th>\n",
       "      <td>23.0</td>\n",
       "      <td>21.25</td>\n",
       "      <td>23.0</td>\n",
       "      <td>22.05</td>\n",
       "      <td>21.825</td>\n",
       "      <td>21.90</td>\n",
       "      <td>22.105</td>\n",
       "    </tr>\n",
       "    <tr>\n",
       "      <th>7</th>\n",
       "      <td>24.0</td>\n",
       "      <td>24.50</td>\n",
       "      <td>20.2</td>\n",
       "      <td>21.55</td>\n",
       "      <td>21.050</td>\n",
       "      <td>21.66</td>\n",
       "      <td>21.685</td>\n",
       "    </tr>\n",
       "    <tr>\n",
       "      <th>8</th>\n",
       "      <td>20.5</td>\n",
       "      <td>21.25</td>\n",
       "      <td>22.1</td>\n",
       "      <td>22.15</td>\n",
       "      <td>22.250</td>\n",
       "      <td>21.46</td>\n",
       "      <td>21.460</td>\n",
       "    </tr>\n",
       "    <tr>\n",
       "      <th>9</th>\n",
       "      <td>26.0</td>\n",
       "      <td>21.00</td>\n",
       "      <td>21.3</td>\n",
       "      <td>22.00</td>\n",
       "      <td>21.425</td>\n",
       "      <td>21.29</td>\n",
       "      <td>21.260</td>\n",
       "    </tr>\n",
       "  </tbody>\n",
       "</table>\n",
       "</div>"
      ],
      "text/plain": [
       "    100    200   500   1000    2000   5000   10000\n",
       "0  19.0  19.75  22.2  22.70  22.375  20.87  21.480\n",
       "1  19.5  22.50  21.3  23.00  20.325  21.39  21.610\n",
       "2  22.0  20.75  21.2  21.95  20.925  21.78  21.555\n",
       "3  17.5  19.25  22.8  20.65  21.250  21.46  21.595\n",
       "4  24.0  21.00  22.2  21.75  22.550  21.92  21.635\n",
       "5  17.5  21.25  21.2  23.50  21.775  22.27  21.785\n",
       "6  23.0  21.25  23.0  22.05  21.825  21.90  22.105\n",
       "7  24.0  24.50  20.2  21.55  21.050  21.66  21.685\n",
       "8  20.5  21.25  22.1  22.15  22.250  21.46  21.460\n",
       "9  26.0  21.00  21.3  22.00  21.425  21.29  21.260"
      ]
     },
     "execution_count": 10,
     "metadata": {},
     "output_type": "execute_result"
    }
   ],
   "source": [
    "import pandas as pd \n",
    "\n",
    "df = pd.DataFrame(data)\n",
    "df.head(n_tests)"
   ]
  },
  {
   "cell_type": "code",
   "execution_count": 11,
   "metadata": {},
   "outputs": [],
   "source": [
    "variance = df.var()"
   ]
  },
  {
   "cell_type": "code",
   "execution_count": 12,
   "metadata": {},
   "outputs": [],
   "source": [
    "mean = df.mean()"
   ]
  },
  {
   "cell_type": "code",
   "execution_count": 13,
   "metadata": {},
   "outputs": [],
   "source": [
    "# plt.close()"
   ]
  },
  {
   "cell_type": "code",
   "execution_count": 14,
   "metadata": {},
   "outputs": [
    {
     "data": {
      "text/plain": [
       "<matplotlib.axes._subplots.AxesSubplot at 0x1b05e469208>"
      ]
     },
     "execution_count": 14,
     "metadata": {},
     "output_type": "execute_result"
    },
    {
     "data": {
      "image/png": "[encoded data removed]",
      "text/plain": [
       "<Figure size 432x288 with 1 Axes>"
      ]
     },
     "metadata": {
      "needs_background": "light"
     },
     "output_type": "display_data"
    }
   ],
   "source": [
    "variance.plot()"
   ]
  },
  {
   "cell_type": "code",
   "execution_count": 15,
   "metadata": {},
   "outputs": [
    {
     "data": {
      "text/plain": [
       "<matplotlib.axes._subplots.AxesSubplot at 0x1b05e4eae10>"
      ]
     },
     "execution_count": 15,
     "metadata": {},
     "output_type": "execute_result"
    },
    {
     "data": {
      "image/png": "[encoded data removed]",
      "text/plain": [
       "<Figure size 432x288 with 1 Axes>"
      ]
     },
     "metadata": {
      "needs_background": "light"
     },
     "output_type": "display_data"
    }
   ],
   "source": [
    "mean.plot()"
   ]
  },
  {
   "cell_type": "code",
   "execution_count": null,
   "metadata": {},
   "outputs": [],
   "source": []
  }
 ],
 "metadata": {
  "kernelspec": {
   "display_name": "Python 3",
   "language": "python",
   "name": "python3"
  },
  "language_info": {
   "codemirror_mode": {
    "name": "ipython",
    "version": 3
   },
   "file_extension": ".py",
   "mimetype": "text/x-python",
   "name": "python",
   "nbconvert_exporter": "python",
   "pygments_lexer": "ipython3",
   "version": "3.7.3"
  }
 },
 "nbformat": 4,
 "nbformat_minor": 2
}
